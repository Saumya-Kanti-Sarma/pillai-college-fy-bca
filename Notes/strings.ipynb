{
 "cells": [
  {
   "cell_type": "markdown",
   "id": "b9ec01df",
   "metadata": {},
   "source": [
    "# Strings in Python"
   ]
  },
  {
   "cell_type": "markdown",
   "id": "7a045ffe",
   "metadata": {},
   "source": [
    "\n",
    "## 🔹 What is a String?\n",
    "A **string** in Python is a sequence of characters enclosed within **single (' ')**, **double (\" \")**, or **triple quotes (''' ''')**.\n",
    "\n",
    "Strings represent textual data such as words, sentences, or even entire paragraphs.  \n",
    "They are objects of the **`str` class** and support various operations and methods.\n",
    "\n",
    "### Example:\n"
   ]
  },
  {
   "cell_type": "code",
   "execution_count": null,
   "id": "b5b3456a",
   "metadata": {},
   "outputs": [],
   "source": [
    "single = 'Hello'\n",
    "double = \"World\"\n",
    "multi_line = '''Hi this is \n",
    "a multi-line string.'''\n",
    "\n",
    "print(single, double)\n",
    "print(multi_line)"
   ]
  },
  {
   "cell_type": "markdown",
   "id": "72d574de",
   "metadata": {},
   "source": [
    "\n",
    "## 🔹 Characteristics of Strings\n",
    "1. **Strings are immutable:** Their content cannot be changed after creation.  \n",
    "2. **Strings are indexed:** Each character has an index starting from `0` to `n-1`.  \n",
    "3. **Strings are iterable:** We can loop through each character using a `for` loop.\n"
   ]
  },
  {
   "cell_type": "code",
   "execution_count": null,
   "id": "dcbce1d4",
   "metadata": {},
   "outputs": [],
   "source": [
    "s = 'python'\n",
    "print(s[0])\n",
    "print(s[1])\n",
    "print(s[2])\n",
    "print(s[3])\n",
    "print(s[4])\n",
    "print(s[5])\n",
    "# print(s[6]) # Uncomment to see IndexError"
   ]
  },
  {
   "cell_type": "code",
   "execution_count": null,
   "id": "921076e0",
   "metadata": {},
   "outputs": [],
   "source": [
    "# Using a for loop to iterate\n",
    "for ch in s:\n",
    "    print(ch)"
   ]
  },
  {
   "cell_type": "code",
   "execution_count": null,
   "id": "5f45c7ce",
   "metadata": {},
   "outputs": [],
   "source": [
    "# Trying to modify a string\n",
    "s[0] = 'j'  # This will raise a TypeError"
   ]
  },
  {
   "cell_type": "markdown",
   "id": "a6178280",
   "metadata": {},
   "source": [
    "\n",
    "## 🔹 Accessing String Elements: Indexing and Slicing\n",
    "- **Indexing:** Access individual characters using their position.  \n",
    "- **Slicing:** Extract portions of the string using `start:end` syntax.\n"
   ]
  },
  {
   "cell_type": "code",
   "execution_count": null,
   "id": "230aca98",
   "metadata": {},
   "outputs": [],
   "source": [
    "my_string = \"Hello World\"\n",
    "print(my_string[0])    # H\n",
    "print(my_string[0:5])  # Hello\n",
    "print(my_string[5:])   #  World\n",
    "print(my_string[1:3])  # el\n",
    "print(my_string[::2])  # HloWrd\n",
    "print(my_string[::-1]) # dlroW olleH"
   ]
  },
  {
   "cell_type": "markdown",
   "id": "f98fc9aa",
   "metadata": {},
   "source": [
    "\n",
    "## 🔹 Searching in Strings\n",
    "| Method | Description |\n",
    "|---------|-------------|\n",
    "| `find()` | Returns first index or -1 if not found |\n",
    "| `index()` | Similar to `find()` but raises error if not found |\n",
    "| `count()` | Returns occurrences of a substring |\n"
   ]
  },
  {
   "cell_type": "code",
   "execution_count": null,
   "id": "430035c6",
   "metadata": {},
   "outputs": [],
   "source": [
    "s = \"banana\"\n",
    "print(s.find(\"a\"))   # 1\n",
    "print(s.index(\"a\"))  # 1\n",
    "print(s.count(\"a\"))  # 3"
   ]
  },
  {
   "cell_type": "markdown",
   "id": "c80575d7",
   "metadata": {},
   "source": [
    "\n",
    "## 🔹 String Comparison\n",
    "Strings can be compared using **relational operators** like `==`, `!=`, `<`, `>` based on **Unicode values**.\n"
   ]
  },
  {
   "cell_type": "code",
   "execution_count": null,
   "id": "05c669c8",
   "metadata": {},
   "outputs": [],
   "source": [
    "a = \"adam\"\n",
    "b = \"ave\"\n",
    "print(a > b)  # False\n",
    "print(a == b) # False\n",
    "print(a < b)  # True"
   ]
  },
  {
   "cell_type": "markdown",
   "id": "41ce9262",
   "metadata": {},
   "source": [
    "\n",
    "## 🔹 String Methods\n",
    "Python provides many built-in methods for string manipulation.\n"
   ]
  },
  {
   "cell_type": "markdown",
   "id": "014f968f",
   "metadata": {},
   "source": [
    "### 1. Case Conversion"
   ]
  },
  {
   "cell_type": "code",
   "execution_count": null,
   "id": "8e4b6811",
   "metadata": {},
   "outputs": [],
   "source": [
    "text = \"Hello World\"\n",
    "print(text.capitalize())\n",
    "print(text.lower())\n",
    "print(text.upper())\n",
    "print(text.title())\n",
    "print(text.swapcase())\n",
    "print(text.casefold())"
   ]
  },
  {
   "cell_type": "markdown",
   "id": "ae0199c6",
   "metadata": {},
   "source": [
    "### 2. Searching and Checking"
   ]
  },
  {
   "cell_type": "code",
   "execution_count": null,
   "id": "bd81dd6b",
   "metadata": {},
   "outputs": [],
   "source": [
    "text = \"hello world\"\n",
    "print(text.startswith(\"hello\"))\n",
    "print(text.endswith(\"world\"))\n",
    "print(text.find(\"world\"))\n",
    "print(text.count(\"l\"))"
   ]
  },
  {
   "cell_type": "markdown",
   "id": "a33e8ae5",
   "metadata": {},
   "source": [
    "### 3. Validation Methods"
   ]
  },
  {
   "cell_type": "code",
   "execution_count": null,
   "id": "23550766",
   "metadata": {},
   "outputs": [],
   "source": [
    "text = \"Hello123\"\n",
    "print(text.isalpha())\n",
    "print(text.isdigit())\n",
    "print(text.isalnum())\n",
    "print(text.islower())\n",
    "print(text.isupper())\n",
    "print(text.istitle())"
   ]
  },
  {
   "cell_type": "markdown",
   "id": "c6d9f0d7",
   "metadata": {},
   "source": [
    "### 4. Whitespace and Cleaning"
   ]
  },
  {
   "cell_type": "code",
   "execution_count": null,
   "id": "fb50c9ee",
   "metadata": {},
   "outputs": [],
   "source": [
    "text = \"  hello world  \\n\"\n",
    "print(text.strip())\n",
    "print(text.lstrip())\n",
    "print(text.rstrip())"
   ]
  },
  {
   "cell_type": "markdown",
   "id": "2c9a309f",
   "metadata": {},
   "source": [
    "### 5. Alignment and Padding"
   ]
  },
  {
   "cell_type": "code",
   "execution_count": null,
   "id": "5460f059",
   "metadata": {},
   "outputs": [],
   "source": [
    "text = \"hello\"\n",
    "print(text.center(10))\n",
    "print(text.ljust(10))\n",
    "print(text.rjust(10))\n",
    "print(text.zfill(10))"
   ]
  },
  {
   "cell_type": "markdown",
   "id": "a8ab4430",
   "metadata": {},
   "source": [
    "### 6. Splitting and Joining"
   ]
  },
  {
   "cell_type": "code",
   "execution_count": null,
   "id": "20b47d7a",
   "metadata": {},
   "outputs": [],
   "source": [
    "text = \"hello world python\"\n",
    "print(text.split())\n",
    "print(text.rsplit(\" \", 1))\n",
    "print(\", \".join([\"a\", \"b\", \"c\"]))"
   ]
  },
  {
   "cell_type": "markdown",
   "id": "be605b63",
   "metadata": {},
   "source": [
    "### 7. Replacement and Translation"
   ]
  },
  {
   "cell_type": "code",
   "execution_count": 1,
   "id": "81ccae6f",
   "metadata": {},
   "outputs": [
    {
     "name": "stdout",
     "output_type": "stream",
     "text": [
      "hello Python\n",
      "Hello World\n",
      "world\n",
      "hello\n"
     ]
    }
   ],
   "source": [
    "text = \"hello world\"\n",
    "print(text.replace(\"world\", \"Python\"))\n",
    "print(text.translate(str.maketrans(\"hw\", \"HW\")))\n",
    "print(text.removeprefix(\"hello \"))\n",
    "print(text.removesuffix(\" world\"))"
   ]
  },
  {
   "cell_type": "markdown",
   "id": "f0859e10",
   "metadata": {},
   "source": [
    "### 8. Encoding and Decoding"
   ]
  },
  {
   "cell_type": "code",
   "execution_count": null,
   "id": "53ee7102",
   "metadata": {},
   "outputs": [],
   "source": [
    "text = \"hello\"\n",
    "print(text.encode())\n",
    "print(text.encode('ascii'))"
   ]
  },
  {
   "cell_type": "markdown",
   "id": "512340ef",
   "metadata": {},
   "source": [
    "\n",
    "## 🔹 Membership Checking\n",
    "You can use `in` and `not in` to check if a substring exists.\n"
   ]
  },
  {
   "cell_type": "code",
   "execution_count": null,
   "id": "ae8ad05f",
   "metadata": {},
   "outputs": [],
   "source": [
    "s1 = \"Hello\"\n",
    "s2 = \"World\"\n",
    "\n",
    "print(s1 + \" \" + s2)\n",
    "print(s1 * 3)\n",
    "print(\"h\" in s1)\n",
    "print(\"j\" in s2)"
   ]
  },
  {
   "cell_type": "markdown",
   "id": "d13bb9aa",
   "metadata": {},
   "source": [
    "\n",
    "## ✅ Summary of Important String Methods\n",
    "| Category | Common Methods |\n",
    "|-----------|----------------|\n",
    "| **Case Conversion** | `.upper()`, `.lower()`, `.capitalize()`, `.title()`, `.swapcase()` |\n",
    "| **Searching** | `.find()`, `.index()`, `.count()`, `.startswith()`, `.endswith()` |\n",
    "| **Validation** | `.isalpha()`, `.isdigit()`, `.isalnum()`, `.isspace()`, `.isupper()` |\n",
    "| **Whitespace** | `.strip()`, `.lstrip()`, `.rstrip()` |\n",
    "| **Splitting/Joining** | `.split()`, `.rsplit()`, `.join()` |\n",
    "| **Replacement** | `.replace()`, `.translate()` |\n",
    "| **Formatting** | `.format()`, `f-strings` |\n"
   ]
  }
 ],
 "metadata": {
  "kernelspec": {
   "display_name": "Python 3",
   "language": "python",
   "name": "python3"
  },
  "language_info": {
   "codemirror_mode": {
    "name": "ipython",
    "version": 3
   },
   "file_extension": ".py",
   "mimetype": "text/x-python",
   "name": "python",
   "nbconvert_exporter": "python",
   "pygments_lexer": "ipython3",
   "version": "3.12.3"
  }
 },
 "nbformat": 4,
 "nbformat_minor": 5
}
